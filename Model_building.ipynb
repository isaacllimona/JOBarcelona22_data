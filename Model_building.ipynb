{
 "cells": [
  {
   "cell_type": "markdown",
   "metadata": {},
   "source": [
    "The idea is to model the probability distributions of the significant features and use a bayesian approach for classification.\n",
    "To model the probability distributions we'll use:\n",
    " - A multivariate 2 component gaussian mixture model for \" Sensor_beta\", \"Sensor_gamma\" and \"Sensor_alpha_plus\".\n",
    " - A piecewise constant distribution for \"hour\".\n",
    "\n",
    "The 2 distributions will be considered independent"
   ]
  },
  {
   "cell_type": "code",
   "execution_count": 1,
   "metadata": {},
   "outputs": [],
   "source": [
    "import pandas as pd\n",
    "import joblib\n",
    "\n",
    "from sklearn.model_selection import train_test_split\n",
    "from sklearn.metrics import classification_report\n",
    "from sklearn.mixture import GaussianMixture\n",
    "\n",
    "from piecewise_constant import OuterInnerConstantDistribution\n",
    "from bayes_classifier import BayesClassifier\n",
    "from joint_distribution import JointDistribution"
   ]
  },
  {
   "cell_type": "code",
   "execution_count": 2,
   "metadata": {},
   "outputs": [
    {
     "name": "stdout",
     "output_type": "stream",
     "text": [
      "train samples: 5250, validation samples: 1751\n"
     ]
    }
   ],
   "source": [
    "data_path = \"train.csv\"\n",
    "data = pd.read_csv(data_path)\n",
    "\n",
    "X = data\n",
    "y = X.pop(\"Insect\")\n",
    "\n",
    "X_train, X_val, y_train, y_val = train_test_split(X, y)\n",
    "print(f\"train samples: {len(X_train)}, validation samples: {len(X_val)}\")"
   ]
  },
  {
   "cell_type": "code",
   "execution_count": 3,
   "metadata": {},
   "outputs": [],
   "source": [
    "class InsectClassifier(BayesClassifier):\n",
    "    def __init__(self):\n",
    "        time_models = [\n",
    "            OuterInnerConstantDistribution(1, 24, 18, 23),\n",
    "            OuterInnerConstantDistribution(1, 24, 21, 22),\n",
    "            OuterInnerConstantDistribution(1, 24, 18, 24)\n",
    "        ]\n",
    "\n",
    "        sensor_features = [\"Sensor_beta\", \"Sensor_gamma\", \"Sensor_alpha_plus\"]\n",
    "        sensor_models = [\n",
    "            GaussianMixture(\n",
    "                n_components=2,\n",
    "                n_init=30,\n",
    "                tol=1e-4,\n",
    "            )\n",
    "        for _ in range(3)]\n",
    "\n",
    "        likelihood_models = []\n",
    "        for insect in (0, 1, 2):\n",
    "            joint_likelihood_model = JointDistribution()\n",
    "            joint_likelihood_model.add_model(time_models[insect], [\"Hour\"])\n",
    "            joint_likelihood_model.add_model(sensor_models[insect], sensor_features)\n",
    "            likelihood_models.append(joint_likelihood_model)\n",
    "\n",
    "        super().__init__(likelihood_models)"
   ]
  },
  {
   "cell_type": "code",
   "execution_count": 4,
   "metadata": {},
   "outputs": [],
   "source": [
    "def evaluate_classifier(model, X, y):\n",
    "    pred = model.predict(X)\n",
    "    print(classification_report(pred, y))"
   ]
  },
  {
   "cell_type": "code",
   "execution_count": 5,
   "metadata": {},
   "outputs": [
    {
     "name": "stdout",
     "output_type": "stream",
     "text": [
      "              precision    recall  f1-score   support\n",
      "\n",
      "           0       0.95      0.93      0.94       904\n",
      "           1       0.98      0.95      0.96       702\n",
      "           2       0.71      0.88      0.78       145\n",
      "\n",
      "    accuracy                           0.94      1751\n",
      "   macro avg       0.88      0.92      0.90      1751\n",
      "weighted avg       0.94      0.94      0.94      1751\n",
      "\n"
     ]
    }
   ],
   "source": [
    "classifier = InsectClassifier()\n",
    "classifier.fit(X_train, y_train)\n",
    "\n",
    "evaluate_classifier(classifier, X_val, y_val)"
   ]
  },
  {
   "cell_type": "markdown",
   "metadata": {},
   "source": [
    "Train the classifier on all the available data and save to disk"
   ]
  },
  {
   "cell_type": "code",
   "execution_count": 7,
   "metadata": {},
   "outputs": [
    {
     "name": "stdout",
     "output_type": "stream",
     "text": [
      "              precision    recall  f1-score   support\n",
      "\n",
      "           0       0.96      0.94      0.95      3603\n",
      "           1       0.98      0.96      0.97      2852\n",
      "           2       0.71      0.89      0.79       546\n",
      "\n",
      "    accuracy                           0.94      7001\n",
      "   macro avg       0.88      0.93      0.90      7001\n",
      "weighted avg       0.95      0.94      0.94      7001\n",
      "\n"
     ]
    }
   ],
   "source": [
    "final_classifier = InsectClassifier()\n",
    "final_classifier.fit(X, y)\n",
    "\n",
    "evaluate_classifier(final_classifier, X, y)"
   ]
  },
  {
   "cell_type": "code",
   "execution_count": 8,
   "metadata": {},
   "outputs": [
    {
     "data": {
      "text/plain": [
       "['classifier.joblib']"
      ]
     },
     "execution_count": 8,
     "metadata": {},
     "output_type": "execute_result"
    }
   ],
   "source": [
    "joblib.dump(final_classifier, \"classifier.joblib\")"
   ]
  }
 ],
 "metadata": {
  "interpreter": {
   "hash": "916dbcbb3f70747c44a77c7bcd40155683ae19c65e1c03b4aa3499c5328201f1"
  },
  "kernelspec": {
   "display_name": "Python 3.8.10 64-bit",
   "language": "python",
   "name": "python3"
  },
  "language_info": {
   "codemirror_mode": {
    "name": "ipython",
    "version": 3
   },
   "file_extension": ".py",
   "mimetype": "text/x-python",
   "name": "python",
   "nbconvert_exporter": "python",
   "pygments_lexer": "ipython3",
   "version": "3.8.10"
  },
  "orig_nbformat": 4
 },
 "nbformat": 4,
 "nbformat_minor": 2
}
